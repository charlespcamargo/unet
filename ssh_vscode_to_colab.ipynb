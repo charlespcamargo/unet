{
 "metadata": {
  "language_info": {
   "codemirror_mode": {
    "name": "ipython",
    "version": 3
   },
   "file_extension": ".py",
   "mimetype": "text/x-python",
   "name": "python",
   "nbconvert_exporter": "python",
   "pygments_lexer": "ipython3",
   "version": "3.9.1"
  },
  "orig_nbformat": 2,
  "kernelspec": {
   "name": "python391jvsc74a57bd03187dc18ff8aad9e79aa599c650f29c20bcdfe30355dbb8486e15ad46a829ba3",
   "display_name": "Python 3.9.1 64-bit ('unet')"
  }
 },
 "nbformat": 4,
 "nbformat_minor": 2,
 "cells": [
  {
   "source": [
    "## Connection VSCode to Google Colab\n",
    "Article: https://www.programmersought.com/article/35047606912/"
   ],
   "cell_type": "markdown",
   "metadata": {}
  },
  {
   "source": [
    "In the Colab Side"
   ],
   "cell_type": "markdown",
   "metadata": {}
  },
  {
   "cell_type": "code",
   "execution_count": null,
   "metadata": {},
   "outputs": [],
   "source": [
    "import random, string, urllib.request, json, getpass\n",
    "\n",
    "#Generate root password\n",
    "password = ''.join(random.choice(string.ascii_letters + string.digits) for i in range(20))\n",
    "\n",
    "#Download ngrok\n",
    "! wget -q -c -nc https://bin.equinox.io/c/4VmDzA7iaHb/ngrok-stable-linux-amd64.zip\n",
    "! unzip -qq -n ngrok-stable-linux-amd64.zip\n",
    "\n",
    "#Setup sshd\n",
    "! apt-get install -qq -o=Dpkg::Use-Pty=0 openssh-server pwgen > /dev/null\n",
    "\n",
    "#Set root password\n",
    "! echo root:$password | chpasswd\n",
    "! mkdir -p /var/run/sshd\n",
    "! echo \"PermitRootLogin yes\" >> /etc/ssh/sshd_config\n",
    "! echo \"PasswordAuthentication yes\" >> /etc/ssh/sshd_config\n",
    "! echo \"LD_LIBRARY_PATH=/usr/lib64-nvidia\" >> /root/.bashrc\n",
    "! echo \"export LD_LIBRARY_PATH\" >> /root/.bashrc\n",
    "\n",
    "#Run sshd\n",
    "get_ipython().system_raw('/usr/sbin/sshd -D &')\n",
    "\n",
    "#Ask token\n",
    "print(\"Copy authtoken from https://dashboard.ngrok.com/auth\")\n",
    "authtoken = getpass.getpass()\n",
    "\n",
    "#Create tunnel\n",
    "get_ipython().system_raw('./ngrok authtoken $authtoken && ./ngrok tcp 22 &')\n",
    "\n",
    "#Get public address and print connect command\n",
    "with urllib.request.urlopen('http://0.0.0.0:4040/api/tunnels') as response:\n",
    "    data = json.loads(response.read().decode())\n",
    "    (host, port) = data['tunnels'][0]['public_url'][6:].split(':')\n",
    "    print(f'SSH command: ssh -p{port} root@{host}')\n",
    "\n",
    "#Print root password\n",
    "print(f'Root password: {password}')\n",
    "\n",
    "# my_ngrok_private_token = '1s1nXCDfoNG9XQhawtGHWxbT7Ll_4sD6fUSPxn1Z7oCePXFkC'\n"
   ]
  },
  {
   "cell_type": "code",
   "execution_count": null,
   "metadata": {},
   "outputs": [],
   "source": [
    "!service ssh status\n",
    "!service ssh stop"
   ]
  },
  {
   "cell_type": "code",
   "execution_count": null,
   "metadata": {},
   "outputs": [],
   "source": [
    "ON the VS Code side"
   ]
  },
  {
   "cell_type": "code",
   "execution_count": 1,
   "metadata": {},
   "outputs": [
    {
     "output_type": "error",
     "ename": "SyntaxError",
     "evalue": "invalid syntax (<ipython-input-1-6e3b23c547ca>, line 4)",
     "traceback": [
      "\u001b[0;36m  File \u001b[0;32m\"<ipython-input-1-6e3b23c547ca>\"\u001b[0;36m, line \u001b[0;32m4\u001b[0m\n\u001b[0;31m    ngrok http 3000 -auth=\"charles:123456\" -host-header=unet.local\u001b[0m\n\u001b[0m          ^\u001b[0m\n\u001b[0;31mSyntaxError\u001b[0m\u001b[0;31m:\u001b[0m invalid syntax\n"
     ]
    }
   ],
   "source": [
    "#3000 is the port number of ngrok service;\n",
    "#-auth is optional and provides basic authentication;\n",
    "#-host-header allows access through the domain name defined in the local `hosts` file, in this example: `127.0.0.1 your-app.local`\n",
    "ngrok http 3000 -auth=\"charles:123456\" -host-header=unet.local\n",
    "#8080 is the web service port number, use -region to specify the region: us, eu, ap, au, etc. The default is us\n",
    "ngrok http 8080  "
   ]
  },
  {
   "cell_type": "code",
   "execution_count": null,
   "metadata": {},
   "outputs": [],
   "source": [
    "curl http://****.ngrok.io  #The url generated in the previous step, get\n",
    "curl http://****.ngrok.io -d name=hxy #post"
   ]
  }
 ]
}